{
  "nbformat": 4,
  "nbformat_minor": 0,
  "metadata": {
    "colab": {
      "provenance": [],
      "include_colab_link": true
    },
    "kernelspec": {
      "name": "python3",
      "display_name": "Python 3"
    },
    "language_info": {
      "name": "python"
    }
  },
  "cells": [
    {
      "cell_type": "markdown",
      "metadata": {
        "id": "view-in-github",
        "colab_type": "text"
      },
      "source": [
        "<a href=\"https://colab.research.google.com/github/HromovAndrey/II_Homework_mood_5_part_4/blob/main/%D0%94%D0%97_18.ipynb\" target=\"_parent\"><img src=\"https://colab.research.google.com/assets/colab-badge.svg\" alt=\"Open In Colab\"/></a>"
      ]
    },
    {
      "cell_type": "markdown",
      "source": [
        "# Оберіть одне завдання на вибір"
      ],
      "metadata": {
        "id": "4rXwBC__jrad"
      }
    },
    {
      "cell_type": "markdown",
      "source": [
        "# Завдання 1\n",
        "\n",
        "За допомогою сегментації зображень замінітть фон для зображення https://github.com/HalyshAnton/IT-Step-Pyton-AI/blob/main/module5/images/humans.jpg\n",
        "\n",
        "на фон з https://github.com/HalyshAnton/IT-Step-Pyton-AI/blob/main/module5/images/forest.jpg\n",
        "\n",
        "* отримайте маску для зображення людей, де `True` - піксель класу людини, `False` - піксель іншого класу\n",
        "* зробіть зображення лісу такого ж розміру як і зображення людей\n",
        "* застосуйте маску щоб змінити значення пікселів зображення лісу на пікселі зображення людей\n",
        "* Якщо результат поганий можете спробувати використати маску для класу `__background`"
      ],
      "metadata": {
        "id": "AVce3DOPMw84"
      }
    },
    {
      "cell_type": "code",
      "source": [
        "\n",
        "!pip install -q ultralytics"
      ],
      "metadata": {
        "id": "4MYqEqM1xqLC",
        "outputId": "881c4abb-3acc-4130-ff31-0d1ec5694106",
        "colab": {
          "base_uri": "https://localhost:8080/"
        }
      },
      "execution_count": 2,
      "outputs": [
        {
          "output_type": "stream",
          "name": "stdout",
          "text": [
            "\u001b[2K     \u001b[90m━━━━━━━━━━━━━━━━━━━━━━━━━━━━━━━━━━━━━━━━\u001b[0m \u001b[32m41.3/41.3 kB\u001b[0m \u001b[31m741.5 kB/s\u001b[0m eta \u001b[36m0:00:00\u001b[0m\n",
            "\u001b[2K   \u001b[90m━━━━━━━━━━━━━━━━━━━━━━━━━━━━━━━━━━━━━━━━\u001b[0m \u001b[32m869.1/869.1 kB\u001b[0m \u001b[31m6.6 MB/s\u001b[0m eta \u001b[36m0:00:00\u001b[0m\n",
            "\u001b[?25h"
          ]
        }
      ]
    },
    {
      "cell_type": "code",
      "source": [
        "from ultralytics import YOLO\n",
        "import cv2\n",
        "import numpy as np\n",
        "import matplotlib.pyplot as plt"
      ],
      "metadata": {
        "id": "0KBGpJaWxcZV"
      },
      "execution_count": 3,
      "outputs": []
    },
    {
      "cell_type": "code",
      "source": [
        "model = YOLO('yolov8n.pt')"
      ],
      "metadata": {
        "id": "3KZTjfZJyGdJ",
        "outputId": "2f5ae36d-b819-4c6e-a3e4-41ebfc9a51a8",
        "colab": {
          "base_uri": "https://localhost:8080/"
        }
      },
      "execution_count": 4,
      "outputs": [
        {
          "output_type": "stream",
          "name": "stdout",
          "text": [
            "Downloading https://github.com/ultralytics/assets/releases/download/v8.2.0/yolov8n.pt to 'yolov8n.pt'...\n"
          ]
        },
        {
          "output_type": "stream",
          "name": "stderr",
          "text": [
            "100%|██████████| 6.25M/6.25M [00:00<00:00, 54.8MB/s]\n"
          ]
        }
      ]
    },
    {
      "cell_type": "code",
      "source": [
        "image_url = 'https://www.thespruce.com/thmb/o_zAsNy0xWNWeq9xfWwAo6fhueo=/1500x0/filters:no_upscale():max_bytes(150000):strip_icc()/SPR-luxury-kitchens-5211364-hero-688d716970544978bc12abdf17ce6f83.jpg'\n",
        "response = requests.get(image_url)\n",
        "image = Image.open(BytesIO(response.content))"
      ],
      "metadata": {
        "id": "oHcKJrRuxpUx",
        "outputId": "2cc1bcc4-46e0-4c93-9766-0c619a4986f0",
        "colab": {
          "base_uri": "https://localhost:8080/",
          "height": 203
        }
      },
      "execution_count": 5,
      "outputs": [
        {
          "output_type": "error",
          "ename": "NameError",
          "evalue": "name 'requests' is not defined",
          "traceback": [
            "\u001b[0;31m---------------------------------------------------------------------------\u001b[0m",
            "\u001b[0;31mNameError\u001b[0m                                 Traceback (most recent call last)",
            "\u001b[0;32m<ipython-input-5-c8a323319cfa>\u001b[0m in \u001b[0;36m<cell line: 2>\u001b[0;34m()\u001b[0m\n\u001b[1;32m      1\u001b[0m \u001b[0mimage_url\u001b[0m \u001b[0;34m=\u001b[0m \u001b[0;34m'https://www.thespruce.com/thmb/o_zAsNy0xWNWeq9xfWwAo6fhueo=/1500x0/filters:no_upscale():max_bytes(150000):strip_icc()/SPR-luxury-kitchens-5211364-hero-688d716970544978bc12abdf17ce6f83.jpg'\u001b[0m\u001b[0;34m\u001b[0m\u001b[0;34m\u001b[0m\u001b[0m\n\u001b[0;32m----> 2\u001b[0;31m \u001b[0mresponse\u001b[0m \u001b[0;34m=\u001b[0m \u001b[0mrequests\u001b[0m\u001b[0;34m.\u001b[0m\u001b[0mget\u001b[0m\u001b[0;34m(\u001b[0m\u001b[0mimage_url\u001b[0m\u001b[0;34m)\u001b[0m\u001b[0;34m\u001b[0m\u001b[0;34m\u001b[0m\u001b[0m\n\u001b[0m\u001b[1;32m      3\u001b[0m \u001b[0mimage\u001b[0m \u001b[0;34m=\u001b[0m \u001b[0mImage\u001b[0m\u001b[0;34m.\u001b[0m\u001b[0mopen\u001b[0m\u001b[0;34m(\u001b[0m\u001b[0mBytesIO\u001b[0m\u001b[0;34m(\u001b[0m\u001b[0mresponse\u001b[0m\u001b[0;34m.\u001b[0m\u001b[0mcontent\u001b[0m\u001b[0;34m)\u001b[0m\u001b[0;34m)\u001b[0m\u001b[0;34m\u001b[0m\u001b[0;34m\u001b[0m\u001b[0m\n",
            "\u001b[0;31mNameError\u001b[0m: name 'requests' is not defined"
          ]
        }
      ]
    },
    {
      "cell_type": "code",
      "source": [
        "image_cv = cv2.cvtColor(np.array(image), cv2.COLOR_RGB2BGR)"
      ],
      "metadata": {
        "id": "otu22DEyyMdw"
      },
      "execution_count": null,
      "outputs": []
    },
    {
      "cell_type": "code",
      "source": [
        "results = model.predict(source=image_cv, conf=0.5, iou=0.4, classes=[56, 57, 60])"
      ],
      "metadata": {
        "id": "X7Ts5znLyO6C"
      },
      "execution_count": null,
      "outputs": []
    },
    {
      "cell_type": "code",
      "source": [
        "plt.imshow(results[0].plot())\n",
        "plt.axis('off')  # Прибираємо осі для кращого відображення\n",
        "plt.show()"
      ],
      "metadata": {
        "id": "C-GrWYjwyQAv"
      },
      "execution_count": null,
      "outputs": []
    },
    {
      "cell_type": "markdown",
      "source": [
        "# Завдання 2\n",
        "\n",
        "Проведіть детекцію об'єктів для відео\n",
        "\n",
        "https://github.com/HalyshAnton/IT-Step-Pyton-AI/blob/main/module5/images/Highway%20driving%20during%20the%20day%20front%20view%20camera%20driving%20plate%204k%20footage.mp4\n",
        "\n",
        "Підберіть параметри для якісного виявлення машин та знаків\n",
        "Код для перетворення набору зображень у відео є нижче\n",
        "\n",
        "[документація](https://matplotlib.org/stable/api/_as_gen/matplotlib.animation.ArtistAnimation.html)"
      ],
      "metadata": {
        "id": "ztlNAbk7PyKX"
      }
    },
    {
      "cell_type": "code",
      "source": [
        "import matplotlib.pyplot as plt\n",
        "import matplotlib.cm as cm\n",
        "import matplotlib.animation as animation\n",
        "\n",
        "img = [] # some array of images\n",
        "frames = [] # for storing the generated images\n",
        "fig = plt.figure()\n",
        "for result in results:\n",
        "    frames.append([plt.imshow(result.plot())])\n",
        "\n",
        "ani = animation.ArtistAnimation(fig, frames, interval=50, blit=True,\n",
        "                                repeat_delay=1000)\n",
        "\n",
        "ani.save('output.mp4')\n",
        "plt.show()"
      ],
      "metadata": {
        "id": "Fl1XxcRYQwM3"
      },
      "execution_count": null,
      "outputs": []
    },
    {
      "cell_type": "markdown",
      "source": [
        "# Завдання 3\n",
        "\n",
        "Згенеруйте зображення на основі тексту\n",
        "\n",
        "[документація](https://huggingface.co/docs/diffusers/using-diffusers/conditional_image_generation)"
      ],
      "metadata": {
        "id": "H1Rzg8y2jNmY"
      }
    },
    {
      "cell_type": "code",
      "source": [],
      "metadata": {
        "id": "cFZzhQNZjl9l"
      },
      "execution_count": null,
      "outputs": []
    }
  ]
}